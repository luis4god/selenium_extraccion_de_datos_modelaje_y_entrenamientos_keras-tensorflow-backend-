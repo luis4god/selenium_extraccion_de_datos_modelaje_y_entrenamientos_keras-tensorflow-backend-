{
 "cells": [
  {
   "cell_type": "code",
   "execution_count": 1,
   "metadata": {},
   "outputs": [
    {
     "name": "stderr",
     "output_type": "stream",
     "text": [
      "Using TensorFlow backend.\n"
     ]
    }
   ],
   "source": [
    "import numpy as np\n",
    "import pandas as pd\n",
    "from sklearn.feature_extraction.text import CountVectorizer\n",
    "from sklearn.preprocessing import LabelEncoder\n",
    "from sklearn.preprocessing import OneHotEncoder\n",
    "from keras.preprocessing.text import Tokenizer\n",
    "from keras.preprocessing.sequence import pad_sequences\n",
    "from keras.models import Sequential\n",
    "from keras.layers import Dense, Embedding, LSTM, SpatialDropout1D\n",
    "from sklearn.model_selection import train_test_split\n",
    "import re"
   ]
  },
  {
   "cell_type": "code",
   "execution_count": 2,
   "metadata": {},
   "outputs": [],
   "source": [
    "datos=pd.read_csv('ejemplos_de_clarin.csv')"
   ]
  },
  {
   "cell_type": "code",
   "execution_count": 3,
   "metadata": {},
   "outputs": [
    {
     "data": {
      "text/html": [
       "<div>\n",
       "<style scoped>\n",
       "    .dataframe tbody tr th:only-of-type {\n",
       "        vertical-align: middle;\n",
       "    }\n",
       "\n",
       "    .dataframe tbody tr th {\n",
       "        vertical-align: top;\n",
       "    }\n",
       "\n",
       "    .dataframe thead th {\n",
       "        text-align: right;\n",
       "    }\n",
       "</style>\n",
       "<table border=\"1\" class=\"dataframe\">\n",
       "  <thead>\n",
       "    <tr style=\"text-align: right;\">\n",
       "      <th></th>\n",
       "      <th>Unnamed: 0</th>\n",
       "      <th>subtitulo</th>\n",
       "      <th>ejemplos</th>\n",
       "    </tr>\n",
       "  </thead>\n",
       "  <tbody>\n",
       "    <tr>\n",
       "      <th>0</th>\n",
       "      <td>0</td>\n",
       "      <td>Departamentos(3014)</td>\n",
       "      <td>Departamentos 3014</td>\n",
       "    </tr>\n",
       "    <tr>\n",
       "      <th>1</th>\n",
       "      <td>1</td>\n",
       "      <td>Departamentos(3014)</td>\n",
       "      <td>7876468   CAMARONES 2761  Villa Sta Rita</td>\n",
       "    </tr>\n",
       "    <tr>\n",
       "      <th>2</th>\n",
       "      <td>2</td>\n",
       "      <td>Departamentos(3014)</td>\n",
       "      <td>7873862     CHACARITA 2amb u s 140 000 A metro...</td>\n",
       "    </tr>\n",
       "    <tr>\n",
       "      <th>3</th>\n",
       "      <td>3</td>\n",
       "      <td>Departamentos(3014)</td>\n",
       "      <td>7873865     CABALLITO 3amb COCH FIJA  SUM  pis...</td>\n",
       "    </tr>\n",
       "    <tr>\n",
       "      <th>4</th>\n",
       "      <td>4</td>\n",
       "      <td>Departamentos(3014)</td>\n",
       "      <td>7874011     PALERMO 2amb Billinghurst y Avda C...</td>\n",
       "    </tr>\n",
       "  </tbody>\n",
       "</table>\n",
       "</div>"
      ],
      "text/plain": [
       "   Unnamed: 0            subtitulo  \\\n",
       "0           0  Departamentos(3014)   \n",
       "1           1  Departamentos(3014)   \n",
       "2           2  Departamentos(3014)   \n",
       "3           3  Departamentos(3014)   \n",
       "4           4  Departamentos(3014)   \n",
       "\n",
       "                                            ejemplos  \n",
       "0                                Departamentos 3014   \n",
       "1           7876468   CAMARONES 2761  Villa Sta Rita  \n",
       "2  7873862     CHACARITA 2amb u s 140 000 A metro...  \n",
       "3  7873865     CABALLITO 3amb COCH FIJA  SUM  pis...  \n",
       "4  7874011     PALERMO 2amb Billinghurst y Avda C...  "
      ]
     },
     "execution_count": 3,
     "metadata": {},
     "output_type": "execute_result"
    }
   ],
   "source": [
    "datos.head()"
   ]
  },
  {
   "cell_type": "code",
   "execution_count": 4,
   "metadata": {},
   "outputs": [],
   "source": [
    "datos = datos[['subtitulo','ejemplos']]"
   ]
  },
  {
   "cell_type": "code",
   "execution_count": 5,
   "metadata": {},
   "outputs": [
    {
     "data": {
      "text/html": [
       "<div>\n",
       "<style scoped>\n",
       "    .dataframe tbody tr th:only-of-type {\n",
       "        vertical-align: middle;\n",
       "    }\n",
       "\n",
       "    .dataframe tbody tr th {\n",
       "        vertical-align: top;\n",
       "    }\n",
       "\n",
       "    .dataframe thead th {\n",
       "        text-align: right;\n",
       "    }\n",
       "</style>\n",
       "<table border=\"1\" class=\"dataframe\">\n",
       "  <thead>\n",
       "    <tr style=\"text-align: right;\">\n",
       "      <th></th>\n",
       "      <th>subtitulo</th>\n",
       "      <th>ejemplos</th>\n",
       "    </tr>\n",
       "  </thead>\n",
       "  <tbody>\n",
       "    <tr>\n",
       "      <th>0</th>\n",
       "      <td>Departamentos(3014)</td>\n",
       "      <td>Departamentos 3014</td>\n",
       "    </tr>\n",
       "    <tr>\n",
       "      <th>1</th>\n",
       "      <td>Departamentos(3014)</td>\n",
       "      <td>7876468   CAMARONES 2761  Villa Sta Rita</td>\n",
       "    </tr>\n",
       "    <tr>\n",
       "      <th>2</th>\n",
       "      <td>Departamentos(3014)</td>\n",
       "      <td>7873862     CHACARITA 2amb u s 140 000 A metro...</td>\n",
       "    </tr>\n",
       "    <tr>\n",
       "      <th>3</th>\n",
       "      <td>Departamentos(3014)</td>\n",
       "      <td>7873865     CABALLITO 3amb COCH FIJA  SUM  pis...</td>\n",
       "    </tr>\n",
       "    <tr>\n",
       "      <th>4</th>\n",
       "      <td>Departamentos(3014)</td>\n",
       "      <td>7874011     PALERMO 2amb Billinghurst y Avda C...</td>\n",
       "    </tr>\n",
       "  </tbody>\n",
       "</table>\n",
       "</div>"
      ],
      "text/plain": [
       "             subtitulo                                           ejemplos\n",
       "0  Departamentos(3014)                                Departamentos 3014 \n",
       "1  Departamentos(3014)           7876468   CAMARONES 2761  Villa Sta Rita\n",
       "2  Departamentos(3014)  7873862     CHACARITA 2amb u s 140 000 A metro...\n",
       "3  Departamentos(3014)  7873865     CABALLITO 3amb COCH FIJA  SUM  pis...\n",
       "4  Departamentos(3014)  7874011     PALERMO 2amb Billinghurst y Avda C..."
      ]
     },
     "execution_count": 5,
     "metadata": {},
     "output_type": "execute_result"
    }
   ],
   "source": [
    "datos.head()"
   ]
  },
  {
   "cell_type": "code",
   "execution_count": 6,
   "metadata": {},
   "outputs": [],
   "source": [
    "datos['ejemplos'] = datos['ejemplos'].apply(lambda x: x.lower())\n",
    "datos['ejemplos'] = datos['ejemplos'].apply((lambda x: re.sub('[^a-zA-z0-9\\s]','',x)))"
   ]
  },
  {
   "cell_type": "code",
   "execution_count": 7,
   "metadata": {},
   "outputs": [
    {
     "data": {
      "text/plain": [
       "(2451,)"
      ]
     },
     "execution_count": 7,
     "metadata": {},
     "output_type": "execute_result"
    }
   ],
   "source": [
    "datos['ejemplos'].shape"
   ]
  },
  {
   "cell_type": "code",
   "execution_count": 8,
   "metadata": {},
   "outputs": [],
   "source": [
    "maxim = datos['ejemplos'].shape[0]\n",
    "\n",
    "tokenizer = Tokenizer(num_words=maxim, split=' ')\n",
    "tokenizer.fit_on_texts(datos['ejemplos'].values)\n",
    "X = tokenizer.texts_to_sequences(datos['ejemplos'].values)\n",
    "X = pad_sequences(X)"
   ]
  },
  {
   "cell_type": "code",
   "execution_count": 9,
   "metadata": {},
   "outputs": [],
   "source": [
    "y=[x for x in datos['subtitulo']]\n",
    "\n",
    "labelencoder_y=LabelEncoder()\n",
    "labelencoder_y.fit(np.asarray(y))\n",
    "yi=labelencoder_y.transform(np.asarray(y))"
   ]
  },
  {
   "cell_type": "code",
   "execution_count": 10,
   "metadata": {},
   "outputs": [
    {
     "name": "stdout",
     "output_type": "stream",
     "text": [
      "2451\n"
     ]
    }
   ],
   "source": [
    "clases={}\n",
    "for i in range(len(yi)):\n",
    "    clases[yi[i]]=y[i]\n",
    "print(len(yi))"
   ]
  },
  {
   "cell_type": "code",
   "execution_count": 11,
   "metadata": {},
   "outputs": [
    {
     "data": {
      "text/plain": [
       "{8: 'Departamentos(3014)',\n",
       " 4: 'Casas(388)',\n",
       " 12: 'Locales Comerciales. Oficinas y Consultorios(307)',\n",
       " 10: 'Habitaciones en Hoteles, Casas de Familias y Pensiones(190)',\n",
       " 20: 'Préstamos, Hípotecas y Otros(178)',\n",
       " 2: 'Automóviles Nacionales e Importados(699)',\n",
       " 0: '4x4, Pick-up, Vans, Mini Vans, Utilitarios(116)',\n",
       " 23: 'Taxis, Repuestos y Accesorios(34)',\n",
       " 18: 'Planes de ahorro y Chocados(31)',\n",
       " 24: 'Transporte de Carga, Camiones, Acoplados, Colectivos, Ambulancias(12)',\n",
       " 16: 'Oficios y Ocupaciones Varias(679)',\n",
       " 5: 'Choferes, Personal de Transporte y Abastecimiento, Autos(302)',\n",
       " 17: 'Personal auxiliar de Casas Particulares. Hoteles, Clínicas(91)',\n",
       " 9: 'Empleados(88)',\n",
       " 19: 'Profesionales y Ejecutivos(87)',\n",
       " 7: 'Cuidado de Personas(463)',\n",
       " 1: 'Astrología y Tarot(152)',\n",
       " 14: 'Mudanzas, Fletes y Logística(67)',\n",
       " 6: 'Construcción y Refacciones(58)',\n",
       " 21: 'Servicios Automotores y Choferes(36)',\n",
       " 15: 'Máquinas y otros materiales para industrias y negocios(32)',\n",
       " 13: 'Mascotas y Animales(20)',\n",
       " 11: 'Hogar y Muebles(14)',\n",
       " 22: 'Sex shops(13)',\n",
       " 3: 'Boliches y Otros(12)'}"
      ]
     },
     "execution_count": 11,
     "metadata": {},
     "output_type": "execute_result"
    }
   ],
   "source": [
    "clases"
   ]
  },
  {
   "cell_type": "code",
   "execution_count": 12,
   "metadata": {},
   "outputs": [
    {
     "name": "stderr",
     "output_type": "stream",
     "text": [
      "C:\\Users\\Stalker\\Anaconda3\\lib\\site-packages\\sklearn\\preprocessing\\_encoders.py:368: FutureWarning: The handling of integer data will change in version 0.22. Currently, the categories are determined based on the range [0, max(values)], while in the future they will be determined based on the unique values.\n",
      "If you want the future behaviour and silence this warning, you can specify \"categories='auto'\".\n",
      "In case you used a LabelEncoder before this OneHotEncoder to convert the categories to integers, then you can now use the OneHotEncoder directly.\n",
      "  warnings.warn(msg, FutureWarning)\n",
      "C:\\Users\\Stalker\\Anaconda3\\lib\\site-packages\\sklearn\\preprocessing\\_encoders.py:390: DeprecationWarning: The 'categorical_features' keyword is deprecated in version 0.20 and will be removed in 0.22. You can use the ColumnTransformer instead.\n",
      "  \"use the ColumnTransformer instead.\", DeprecationWarning)\n"
     ]
    }
   ],
   "source": [
    "cx=yi.reshape(len(X),1).astype(\"float32\")\n",
    "onehotencoder=OneHotEncoder(categorical_features=[0])\n",
    "Y=onehotencoder.fit_transform(cx).toarray()"
   ]
  },
  {
   "cell_type": "code",
   "execution_count": 13,
   "metadata": {},
   "outputs": [
    {
     "data": {
      "text/plain": [
       "(2451,)"
      ]
     },
     "execution_count": 13,
     "metadata": {},
     "output_type": "execute_result"
    }
   ],
   "source": [
    "yi.shape"
   ]
  },
  {
   "cell_type": "code",
   "execution_count": 14,
   "metadata": {},
   "outputs": [],
   "source": [
    "\n",
    "X_train, X_test, Y_train, Y_test = train_test_split(X,Y, test_size = 0.33, random_state = 55)"
   ]
  },
  {
   "cell_type": "code",
   "execution_count": 112,
   "metadata": {},
   "outputs": [],
   "source": [
    "model = Sequential()\n",
    "model.add(Embedding(maxim, 20,input_length = X.shape[1]))\n",
    "model.add(SpatialDropout1D(0.4))\n",
    "model.add(LSTM(200, dropout=0.2, recurrent_dropout=0.2))\n",
    "model.add(Dense(25,activation='softmax'))\n",
    "model.compile(loss = 'categorical_crossentropy', optimizer='adam',metrics = ['accuracy'])"
   ]
  },
  {
   "cell_type": "code",
   "execution_count": 116,
   "metadata": {},
   "outputs": [
    {
     "name": "stdout",
     "output_type": "stream",
     "text": [
      "Epoch 1/3\n",
      "1642/1642 [==============================] - 17s 10ms/step - loss: 0.5704 - acc: 0.8374\n",
      "Epoch 2/3\n",
      "1642/1642 [==============================] - 17s 10ms/step - loss: 0.5455 - acc: 0.8471\n",
      "Epoch 3/3\n",
      "1642/1642 [==============================] - 17s 11ms/step - loss: 0.4994 - acc: 0.8563\n"
     ]
    },
    {
     "data": {
      "text/plain": [
       "<keras.callbacks.History at 0x1ad64128>"
      ]
     },
     "execution_count": 116,
     "metadata": {},
     "output_type": "execute_result"
    }
   ],
   "source": [
    "model.fit(X_train, Y_train, epochs = 3, batch_size=100)"
   ]
  },
  {
   "cell_type": "code",
   "execution_count": 137,
   "metadata": {},
   "outputs": [],
   "source": [
    "#model.save_weights('pesos_nlp_lstm_embeddings.h5')\n",
    "#model.load_weights('pesos_nlp_lstm_embeddings.h5')"
   ]
  },
  {
   "cell_type": "code",
   "execution_count": 117,
   "metadata": {},
   "outputs": [
    {
     "name": "stdout",
     "output_type": "stream",
     "text": [
      "809/809 [==============================] - 3s 3ms/step\n"
     ]
    }
   ],
   "source": [
    "score,acc = model.evaluate(X_test, Y_test, batch_size =100)"
   ]
  },
  {
   "cell_type": "code",
   "execution_count": 118,
   "metadata": {},
   "outputs": [
    {
     "name": "stdout",
     "output_type": "stream",
     "text": [
      "score=0.6469377814176204,acc=0.8207663848756712\n"
     ]
    }
   ],
   "source": [
    "print(\"score={},acc={}\".format(score,acc))"
   ]
  },
  {
   "cell_type": "code",
   "execution_count": 140,
   "metadata": {},
   "outputs": [],
   "source": [
    "word=[\"\"]\n",
    "word=tokenizer.texts_to_sequences(word)\n",
    "word=pad_sequences(word, maxlen=106, dtype='int32', value=0)"
   ]
  },
  {
   "cell_type": "code",
   "execution_count": 141,
   "metadata": {},
   "outputs": [
    {
     "data": {
      "text/plain": [
       "'Construcción y Refacciones(58)'"
      ]
     },
     "execution_count": 141,
     "metadata": {},
     "output_type": "execute_result"
    }
   ],
   "source": [
    "clases[int(model.predict_classes(word))]"
   ]
  },
  {
   "cell_type": "code",
   "execution_count": null,
   "metadata": {},
   "outputs": [],
   "source": []
  }
 ],
 "metadata": {
  "kernelspec": {
   "display_name": "Python 3",
   "language": "python",
   "name": "python3"
  },
  "language_info": {
   "codemirror_mode": {
    "name": "ipython",
    "version": 3
   },
   "file_extension": ".py",
   "mimetype": "text/x-python",
   "name": "python",
   "nbconvert_exporter": "python",
   "pygments_lexer": "ipython3",
   "version": "3.6.8"
  }
 },
 "nbformat": 4,
 "nbformat_minor": 2
}
